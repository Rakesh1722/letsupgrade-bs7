{
  "nbformat": 4,
  "nbformat_minor": 0,
  "metadata": {
    "colab": {
      "name": "dy3assignment.ipynb",
      "provenance": []
    },
    "kernelspec": {
      "name": "python3",
      "display_name": "Python 3"
    }
  },
  "cells": [
    {
      "cell_type": "code",
      "metadata": {
        "id": "mJQql37cnaqL",
        "colab_type": "code",
        "colab": {
          "base_uri": "https://localhost:8080/",
          "height": 51
        },
        "outputId": "1be76e53-c26a-4f61-e9bf-73dd95f98622"
      },
      "source": [
        "#Question-1\n",
        "\n",
        "alt_req = num\n",
        "num=int(input())\n",
        "if num<=1000:\n",
        "    print(\"Safe to Land\")\n",
        "elif (num >1000 and num<5000):\n",
        "    print(\"Bring down to 1000\")\n",
        "elif num > 5000:\n",
        "    print(\"Turn Around\")\n"
      ],
      "execution_count": 4,
      "outputs": [
        {
          "output_type": "stream",
          "text": [
            "4500\n",
            "Bring down to 1000\n"
          ],
          "name": "stdout"
        }
      ]
    },
    {
      "cell_type": "code",
      "metadata": {
        "id": "dqJJ2D9nqSRn",
        "colab_type": "code",
        "colab": {
          "base_uri": "https://localhost:8080/",
          "height": 54
        },
        "outputId": "9c300a00-95dc-4f2a-a56e-b1b4fc8fe973"
      },
      "source": [
        "#Question-2\n",
        "\n",
        "low=2\n",
        "high=200\n",
        "\n",
        "for i in range(low,high+1):\n",
        "  if i>1:\n",
        "    for num in range(2,i):\n",
        "      if(i%num)==0:\n",
        "        break\n",
        "    else:\n",
        "      print(i,end=' ')\n"
      ],
      "execution_count": 8,
      "outputs": [
        {
          "output_type": "stream",
          "text": [
            "2 3 5 7 11 13 17 19 23 29 31 37 41 43 47 53 59 61 67 71 73 79 83 89 97 101 103 107 109 113 127 131 137 139 149 151 157 163 167 173 179 181 191 193 197 199 "
          ],
          "name": "stdout"
        }
      ]
    }
  ]
}