{
  "nbformat": 4,
  "nbformat_minor": 0,
  "metadata": {
    "colab": {
      "name": "dy4assignment.ipynb",
      "provenance": []
    },
    "kernelspec": {
      "name": "python3",
      "display_name": "Python 3"
    }
  },
  "cells": [
    {
      "cell_type": "code",
      "metadata": {
        "id": "FpFRe4x6uuID",
        "colab_type": "code",
        "colab": {
          "base_uri": "https://localhost:8080/",
          "height": 34
        },
        "outputId": "2ef3af47-ea5b-42b8-92da-232ac88f2b50"
      },
      "source": [
        "#Question 1\n",
        "\n",
        "for n in range(1042000,702648265):\n",
        "    count=str(n)\n",
        "    s=0\n",
        "    t=n\n",
        "    while t>0:\n",
        "        d=t%10\n",
        "        s+=d**len(count)\n",
        "        t//=10\n",
        "    if n==s:\n",
        "        print(\"The first armstrong number is\",n)\n",
        "        break"
      ],
      "execution_count": 5,
      "outputs": [
        {
          "output_type": "stream",
          "text": [
            "The first armstrong number is 1741725\n"
          ],
          "name": "stdout"
        }
      ]
    }
  ]
}